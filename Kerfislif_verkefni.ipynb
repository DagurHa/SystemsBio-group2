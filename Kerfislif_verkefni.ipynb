{
  "nbformat": 4,
  "nbformat_minor": 0,
  "metadata": {
    "colab": {
      "name": "Kerfislif_verkefni.ipynb",
      "provenance": [],
      "collapsed_sections": []
    },
    "kernelspec": {
      "name": "python3",
      "display_name": "Python 3"
    },
    "language_info": {
      "name": "python"
    }
  },
  "cells": [
    {
      "cell_type": "code",
      "execution_count": null,
      "metadata": {
        "id": "5BwJDunH0Ib2"
      },
      "outputs": [],
      "source": [
        "!pip install rich==6.2.0\n",
        "!pip install cobra\n",
        "import cobra\n",
        "from cobra import Model, Reaction, Metabolite\n",
        "from cobra.util.solver import linear_reaction_coefficients\n",
        "!pip install gurobipy\n",
        "import gurobipy as gp\n",
        "from cobra.flux_analysis import flux_variability_analysis\n",
        "from cobra.flux_analysis import single_reaction_deletion\n",
        "from cobra.flux_analysis.deletion import double_reaction_deletion\n",
        "import os"
      ]
    },
    {
      "cell_type": "code",
      "source": [
        "! git clone https://github.com/SysBioChalmers/yeast-GEM.git"
      ],
      "metadata": {
        "id": "tw-pTn3nsoYZ"
      },
      "execution_count": null,
      "outputs": []
    },
    {
      "cell_type": "code",
      "source": [
        "!pip install -r yeast-GEM/requirements/requirements.txt  # installs all dependencies               # creates a .env file for locating the root"
      ],
      "metadata": {
        "id": "wenxupBMfnzY"
      },
      "execution_count": null,
      "outputs": []
    },
    {
      "cell_type": "code",
      "source": [
        "os.chdir('yeast-GEM')\n",
        "! touch .env\n",
        "from dotenv import find_dotenv\n",
        "from os.path import dirname\n",
        "\n",
        "# find .env + define paths:\n",
        "dotenv_path = find_dotenv()\n",
        "REPO_PATH = dirname(dotenv_path)\n",
        "MODEL_PATH = f\"{REPO_PATH}/model/yeast-GEM.xml\""
      ],
      "metadata": {
        "id": "wKqbMC4MyNfK"
      },
      "execution_count": 5,
      "outputs": []
    },
    {
      "cell_type": "code",
      "source": [
        "import importlib.util\n",
        "spec = importlib.util.spec_from_file_location(\"alo\", \"/content/yeast-GEM/code/io.py\")\n",
        "foo = importlib.util.module_from_spec(spec)\n",
        "spec.loader.exec_module(foo)\n",
        "model = foo.read_yeast_model()"
      ],
      "metadata": {
        "id": "efsEtDPQqiyD"
      },
      "execution_count": null,
      "outputs": []
    },
    {
      "cell_type": "code",
      "source": [
        "model.solver = \"glpk\""
      ],
      "metadata": {
        "id": "qtjbr3NB05I8"
      },
      "execution_count": 7,
      "outputs": []
    },
    {
      "cell_type": "code",
      "source": [
        "model.metabolites.get_by_id(\"s_0681[e]\") #s_0681[e] is the id of ethanol in the model"
      ],
      "metadata": {
        "id": "WeGHKnV_bt6n"
      },
      "execution_count": null,
      "outputs": []
    },
    {
      "cell_type": "code",
      "source": [
        "model.objective = \"r_1761\"\n",
        "model.summary()"
      ],
      "metadata": {
        "id": "ExOiBW5Aci2F"
      },
      "execution_count": null,
      "outputs": []
    },
    {
      "cell_type": "code",
      "source": [
        "flux_variability_analysis(model,fraction_of_optimum=0.95)\n",
        "model.summary(fva=0.95)"
      ],
      "metadata": {
        "id": "4AvIxIji0MrO"
      },
      "execution_count": null,
      "outputs": []
    },
    {
      "cell_type": "code",
      "source": [
        "df = single_reaction_deletion(model)\n",
        "df"
      ],
      "metadata": {
        "id": "X8hlFo724PV3"
      },
      "execution_count": null,
      "outputs": []
    },
    {
      "cell_type": "code",
      "source": [
        "df.max(numeric_only=True)"
      ],
      "metadata": {
        "id": "eMgzJlQu1Kac"
      },
      "execution_count": null,
      "outputs": []
    },
    {
      "cell_type": "code",
      "source": [
        "def filter_unwanted_reactions_from_model(model):\n",
        "  reactions_to_remove = [] #Clean list\n",
        "  for ele in range(0,len(model.reactions)):\n",
        "    if len(model.reactions[ele].compartments) > 1:\n",
        "      reactions_to_remove.append(model.reactions[ele].id)\n",
        "    elif model.reactions[ele] in model.exchanges:\n",
        "      reactions_to_remove.append(model.reactions[ele].id)\n",
        "    else:\n",
        "      model2 = model.copy()\n",
        "      model2.reactions.get_by_id(model.reactions[ele].id).bounds = (0,0)\n",
        "      sol_tmp = model2.slim_optimize()\n",
        "      if sol_tmp < 1e-4:\n",
        "        reactions_to_remove.append(model.reactions[ele].id)\n",
        "  model3 = model.copy()\n",
        "  model3.remove_reactions(reactions_to_remove) #Remove those reactions\n",
        "  return model3"
      ],
      "metadata": {
        "id": "AKiO0e41ie_h"
      },
      "execution_count": 13,
      "outputs": []
    },
    {
      "cell_type": "code",
      "source": [
        "model_copy = filter_unwanted_reactions_from_model(model) #Running this took up all the RAM and didn't finish running on my laptop"
      ],
      "metadata": {
        "id": "1aCzouX4iliM"
      },
      "execution_count": null,
      "outputs": []
    },
    {
      "cell_type": "code",
      "source": [
        "double_reaction_deletion(model)"
      ],
      "metadata": {
        "id": "AM2GVQhj1fQ6"
      },
      "execution_count": null,
      "outputs": []
    }
  ]
}